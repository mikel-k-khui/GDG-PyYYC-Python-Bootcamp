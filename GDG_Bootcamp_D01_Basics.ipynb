{
  "nbformat": 4,
  "nbformat_minor": 0,
  "metadata": {
    "colab": {
      "name": "GDG Bootcamp-D01-Basics.ipynb",
      "provenance": [],
      "collapsed_sections": [],
      "authorship_tag": "ABX9TyPs2iay3RL0StHIx0QniJPD",
      "include_colab_link": true
    },
    "kernelspec": {
      "name": "python3",
      "display_name": "Python 3"
    }
  },
  "cells": [
    {
      "cell_type": "markdown",
      "metadata": {
        "id": "view-in-github",
        "colab_type": "text"
      },
      "source": [
        "<a href=\"https://colab.research.google.com/github/mikel-k-khui/GDG-PyYYC-Python-Bootcamp/blob/main/GDG_Bootcamp_D01_Basics.ipynb\" target=\"_parent\"><img src=\"https://colab.research.google.com/assets/colab-badge.svg\" alt=\"Open In Colab\"/></a>"
      ]
    },
    {
      "cell_type": "markdown",
      "metadata": {
        "id": "5ei-Wd6uvjBb"
      },
      "source": [
        "Everything is an object and has a type:\n",
        "* Boolean: True, False\n",
        "* Operators: and, or\n",
        "* None: very specific, does not return anything\n",
        "* Numerics: most basic types can work with each other\n",
        "> * / - float division\n",
        "> * // - integer division\n",
        "* String: indexed"
      ]
    },
    {
      "cell_type": "code",
      "metadata": {
        "colab": {
          "base_uri": "https://localhost:8080/",
          "height": 130
        },
        "id": "_iRId87ssTkG",
        "outputId": "daee41b9-6a74-4b3b-c2ed-12801be259db"
      },
      "source": [
        "\"\"\"\n",
        "Comment blocks\n",
        "\"\"\"\n",
        "# type error\n",
        "'12' + 1"
      ],
      "execution_count": 6,
      "outputs": [
        {
          "output_type": "error",
          "ename": "SyntaxError",
          "evalue": "ignored",
          "traceback": [
            "\u001b[0;36m  File \u001b[0;32m\"<ipython-input-6-c978f6f8e7a4>\"\u001b[0;36m, line \u001b[0;32m1\u001b[0m\n\u001b[0;31m    ***\u001b[0m\n\u001b[0m     ^\u001b[0m\n\u001b[0;31mSyntaxError\u001b[0m\u001b[0;31m:\u001b[0m invalid syntax\n"
          ]
        }
      ]
    },
    {
      "cell_type": "code",
      "metadata": {
        "colab": {
          "base_uri": "https://localhost:8080/"
        },
        "id": "QCgBDZHnuB7d",
        "outputId": "da0ab13a-651a-4cd3-b13d-40e54e3f8195"
      },
      "source": [
        "#convert type\n",
        "int_12 = int('12')\n",
        "int_12 +1"
      ],
      "execution_count": 4,
      "outputs": [
        {
          "output_type": "execute_result",
          "data": {
            "text/plain": [
              "13"
            ]
          },
          "metadata": {
            "tags": []
          },
          "execution_count": 4
        }
      ]
    },
    {
      "cell_type": "code",
      "metadata": {
        "colab": {
          "base_uri": "https://localhost:8080/"
        },
        "id": "M41306xqugy2",
        "outputId": "063f43e3-5555-46aa-ef09-05fd8affd990"
      },
      "source": [
        "13 // 2 # 13 / 2 = 6.5"
      ],
      "execution_count": 9,
      "outputs": [
        {
          "output_type": "execute_result",
          "data": {
            "text/plain": [
              "6"
            ]
          },
          "metadata": {
            "tags": []
          },
          "execution_count": 9
        }
      ]
    },
    {
      "cell_type": "code",
      "metadata": {
        "colab": {
          "base_uri": "https://localhost:8080/"
        },
        "id": "fOoRTJeYwOQ7",
        "outputId": "adbc262d-2aec-4473-b482-b1b66bf24c96"
      },
      "source": [
        "import math\n",
        "print('pi is', math.pi)"
      ],
      "execution_count": 10,
      "outputs": [
        {
          "output_type": "stream",
          "text": [
            "pi is 3.141592653589793\n"
          ],
          "name": "stdout"
        }
      ]
    },
    {
      "cell_type": "code",
      "metadata": {
        "colab": {
          "base_uri": "https://localhost:8080/",
          "height": 35
        },
        "id": "JmAFshLkxHSx",
        "outputId": "fc1b2112-4849-4c16-dab9-4f46f83fed83"
      },
      "source": [
        "a_string ='abcdefghijkl'\n",
        "a_string[0:10:3] # slicing [1:5] give 'bcde', then [#:#:step] step is how many to return"
      ],
      "execution_count": 21,
      "outputs": [
        {
          "output_type": "execute_result",
          "data": {
            "application/vnd.google.colaboratory.intrinsic+json": {
              "type": "string"
            },
            "text/plain": [
              "'adgj'"
            ]
          },
          "metadata": {
            "tags": []
          },
          "execution_count": 21
        }
      ]
    }
  ]
}