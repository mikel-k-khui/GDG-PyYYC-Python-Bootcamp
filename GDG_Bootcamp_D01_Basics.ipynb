{
  "nbformat": 4,
  "nbformat_minor": 0,
  "metadata": {
    "colab": {
      "name": "GDG Bootcamp-D01-Basics.ipynb",
      "provenance": [],
      "collapsed_sections": [],
      "authorship_tag": "ABX9TyNPGaeF/1dG54pj9utD1O11",
      "include_colab_link": true
    },
    "kernelspec": {
      "name": "python3",
      "display_name": "Python 3"
    }
  },
  "cells": [
    {
      "cell_type": "markdown",
      "metadata": {
        "id": "view-in-github",
        "colab_type": "text"
      },
      "source": [
        "<a href=\"https://colab.research.google.com/github/mikel-k-khui/GDG-PyYYC-Python-Bootcamp/blob/main/GDG_Bootcamp_D01_Basics.ipynb\" target=\"_parent\"><img src=\"https://colab.research.google.com/assets/colab-badge.svg\" alt=\"Open In Colab\"/></a>"
      ]
    },
    {
      "cell_type": "markdown",
      "metadata": {
        "id": "5ei-Wd6uvjBb"
      },
      "source": [
        "Everything is an object and has a type:\n",
        "* Boolean: True, False\n",
        "* Operators: and, or\n",
        "* None: very specific, does not return anything\n",
        "* Numerics: most basic types can work with each other\n",
        "> * / - float division\n",
        "> * // - integer division\n",
        "* String: indexed"
      ]
    },
    {
      "cell_type": "code",
      "metadata": {
        "colab": {
          "base_uri": "https://localhost:8080/",
          "height": 130
        },
        "id": "_iRId87ssTkG",
        "outputId": "daee41b9-6a74-4b3b-c2ed-12801be259db"
      },
      "source": [
        "\"\"\"\n",
        "Comment blocks\n",
        "\"\"\"\n",
        "# type error\n",
        "'12' + 1"
      ],
      "execution_count": null,
      "outputs": [
        {
          "output_type": "error",
          "ename": "SyntaxError",
          "evalue": "ignored",
          "traceback": [
            "\u001b[0;36m  File \u001b[0;32m\"<ipython-input-6-c978f6f8e7a4>\"\u001b[0;36m, line \u001b[0;32m1\u001b[0m\n\u001b[0;31m    ***\u001b[0m\n\u001b[0m     ^\u001b[0m\n\u001b[0;31mSyntaxError\u001b[0m\u001b[0;31m:\u001b[0m invalid syntax\n"
          ]
        }
      ]
    },
    {
      "cell_type": "code",
      "metadata": {
        "colab": {
          "base_uri": "https://localhost:8080/"
        },
        "id": "QCgBDZHnuB7d",
        "outputId": "da0ab13a-651a-4cd3-b13d-40e54e3f8195"
      },
      "source": [
        "#convert type\n",
        "int_12 = int('12')\n",
        "int_12 +1"
      ],
      "execution_count": null,
      "outputs": [
        {
          "output_type": "execute_result",
          "data": {
            "text/plain": [
              "13"
            ]
          },
          "metadata": {
            "tags": []
          },
          "execution_count": 4
        }
      ]
    },
    {
      "cell_type": "code",
      "metadata": {
        "colab": {
          "base_uri": "https://localhost:8080/"
        },
        "id": "M41306xqugy2",
        "outputId": "0414a34c-3db4-4aab-f81b-92eb9ac2d2aa"
      },
      "source": [
        "print('13 // 2 = ', 13 // 2, ' vs. 13 / 2 = ', 13 / 2) # 13 / 2 = 6.5"
      ],
      "execution_count": null,
      "outputs": [
        {
          "output_type": "stream",
          "text": [
            "13 // 2 =  6  vs. 13 / 2 =  6.5\n"
          ],
          "name": "stdout"
        }
      ]
    },
    {
      "cell_type": "code",
      "metadata": {
        "colab": {
          "base_uri": "https://localhost:8080/"
        },
        "id": "fOoRTJeYwOQ7",
        "outputId": "adbc262d-2aec-4473-b482-b1b66bf24c96"
      },
      "source": [
        "import math\n",
        "print('pi is', math.pi)"
      ],
      "execution_count": null,
      "outputs": [
        {
          "output_type": "stream",
          "text": [
            "pi is 3.141592653589793\n"
          ],
          "name": "stdout"
        }
      ]
    },
    {
      "cell_type": "code",
      "metadata": {
        "colab": {
          "base_uri": "https://localhost:8080/"
        },
        "id": "JmAFshLkxHSx",
        "outputId": "4fe49766-67fa-43de-a594-3a3b20e0efd0"
      },
      "source": [
        "a_string ='abcdefghijkl'\n",
        "print(a_string[0:10:3]) # slicing [1:5] give 'bcde', then [#:#:step] step is how many to return\n",
        "print(a_string.find('ijk')) # returns the index position of the 1st occurence\n",
        "print(a_string.replace('def', 'fed'))\n",
        "# print(a_string.index('fed'))\n",
        "print(a_string[-4:-1])"
      ],
      "execution_count": null,
      "outputs": [
        {
          "output_type": "stream",
          "text": [
            "adgj\n",
            "8\n",
            "abcfedghijkl\n",
            "ijk\n"
          ],
          "name": "stdout"
        }
      ]
    },
    {
      "cell_type": "code",
      "metadata": {
        "colab": {
          "base_uri": "https://localhost:8080/"
        },
        "id": "yzUOI6ZH0pTI",
        "outputId": "cf5ed789-c9fd-4226-deda-ef7cc0f351de"
      },
      "source": [
        "my_var = input('Enter a number')\n",
        "print('Square of ', my_var, ' is ', pow(int(my_var), 2))"
      ],
      "execution_count": null,
      "outputs": [
        {
          "output_type": "stream",
          "text": [
            "Enter a number3\n",
            "Square of  3  is  9\n"
          ],
          "name": "stdout"
        }
      ]
    },
    {
      "cell_type": "code",
      "metadata": {
        "colab": {
          "base_uri": "https://localhost:8080/"
        },
        "id": "arClyRhL2uiS",
        "outputId": "30ab4ab6-74b3-407d-db1e-bbfb4668d5e1"
      },
      "source": [
        "my_var = input('Enter a number:')\n",
        "if int(my_var) == 0:\n",
        "  print('You entered zero')\n",
        "elif int(my_var) % 2 == 0:\n",
        "  print('Your number was an even number')\n",
        "else:\n",
        "  print('Your number was an odd number')"
      ],
      "execution_count": null,
      "outputs": [
        {
          "output_type": "stream",
          "text": [
            "Enter a number:3\n",
            "Your number was an odd number\n"
          ],
          "name": "stdout"
        }
      ]
    },
    {
      "cell_type": "code",
      "metadata": {
        "colab": {
          "base_uri": "https://localhost:8080/"
        },
        "id": "RSjB7eJ09v1h",
        "outputId": "2dc50d8f-d294-429c-bd7d-cd9c464e3762"
      },
      "source": [
        "# convert fahrenheit to celsius\n",
        "fahrenheit = float(input('Enter your current temperature in fahrenheit: '))\n",
        "celsius = round((fahrenheit -32) / 1.8, 2)\n",
        "print(f'The current temperature in {celsius}°C.') #interplation"
      ],
      "execution_count": 7,
      "outputs": [
        {
          "output_type": "stream",
          "text": [
            "Enter your current temperature in fahrenheit: 0\n",
            "The current temperature in -17.78°C.\n"
          ],
          "name": "stdout"
        }
      ]
    },
    {
      "cell_type": "code",
      "metadata": {
        "colab": {
          "base_uri": "https://localhost:8080/"
        },
        "id": "e_bFSmKRHG8r",
        "outputId": "3d265a17-8fe3-4f96-f13d-446329dcb703"
      },
      "source": [
        "# dictionary is complicated is a basic data type, but it is also an object\n",
        "# it has a class\n",
        "\n",
        "a_dictionary = {\n",
        "    'one': 1,\n",
        "    'two': 2,\n",
        "    'three': 3\n",
        "}\n",
        "for value in a_dictionary.values():\n",
        "  print(f'value: {value}')\n",
        "\n",
        "for key, value in a_dictionary.items():\n",
        "  print(f'key: {key}, value: {value}')\n"
      ],
      "execution_count": 10,
      "outputs": [
        {
          "output_type": "stream",
          "text": [
            "value: 1\n",
            "value: 2\n",
            "value: 3\n",
            "key: one, value: 1\n",
            "key: two, value: 2\n",
            "key: three, value: 3\n"
          ],
          "name": "stdout"
        }
      ]
    },
    {
      "cell_type": "code",
      "metadata": {
        "colab": {
          "base_uri": "https://localhost:8080/"
        },
        "id": "0dV4gNbLH4Zn",
        "outputId": "f4602a42-ac59-4c4a-9e5f-9bd35d5dfc9a"
      },
      "source": [
        "# functions returns is a tuple\n",
        "\n",
        "def example(input_a, input_b=1, input_c=1):\n",
        "  return (input_a + input_b) * input_c\n",
        "\n",
        "print(f'single variable with default: example(0) = {example(0)}')\n",
        "print(f'single variable with default: example(2, input_c=5) = {example(2,input_c=5)}')"
      ],
      "execution_count": 16,
      "outputs": [
        {
          "output_type": "stream",
          "text": [
            "single variable with default: example(0) = 1\n",
            "single variable with default: example(2, input_c=5) = 15\n"
          ],
          "name": "stdout"
        }
      ]
    },
    {
      "cell_type": "code",
      "metadata": {
        "id": "SVyYFUr0KD3d",
        "outputId": "95f6da91-bf40-4c5d-99be-3ce4e26f5b76",
        "colab": {
          "base_uri": "https://localhost:8080/"
        }
      },
      "source": [
        "# lambda function: only has 1 expression\n",
        "a_nameless_function = lambda x, y: x + y\n",
        "\n",
        "def lamb_da(x, y):\n",
        "  return x + y\n",
        "\n",
        "print(f'lambda: {a_nameless_function(1,1)}')"
      ],
      "execution_count": 19,
      "outputs": [
        {
          "output_type": "stream",
          "text": [
            "lambda: 2\n"
          ],
          "name": "stdout"
        }
      ]
    }
  ]
}