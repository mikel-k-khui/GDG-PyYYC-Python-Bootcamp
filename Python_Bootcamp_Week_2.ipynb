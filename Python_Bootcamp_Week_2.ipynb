{
  "nbformat": 4,
  "nbformat_minor": 0,
  "metadata": {
    "kernelspec": {
      "display_name": "Python 3.6.3 64-bit ('py36': conda)",
      "language": "python",
      "name": "python36364bitpy36conda3f5f4b0ff7414ed388d9f355776692a0"
    },
    "language_info": {
      "codemirror_mode": {
        "name": "ipython",
        "version": 3
      },
      "file_extension": ".py",
      "mimetype": "text/x-python",
      "name": "python",
      "nbconvert_exporter": "python",
      "pygments_lexer": "ipython3",
      "version": "3.6.3"
    },
    "colab": {
      "name": "Python Bootcamp Week 2.ipynb",
      "provenance": [],
      "collapsed_sections": [],
      "include_colab_link": true
    }
  },
  "cells": [
    {
      "cell_type": "markdown",
      "metadata": {
        "id": "view-in-github",
        "colab_type": "text"
      },
      "source": [
        "<a href=\"https://colab.research.google.com/github/mikel-k-khui/GDG-PyYYC-Python-Bootcamp/blob/main/Python_Bootcamp_Week_2.ipynb\" target=\"_parent\"><img src=\"https://colab.research.google.com/assets/colab-badge.svg\" alt=\"Open In Colab\"/></a>"
      ]
    },
    {
      "cell_type": "markdown",
      "metadata": {
        "id": "ohZmMBCBsHPQ"
      },
      "source": [
        "# Python Bootcamp Week2\n",
        "\n",
        "Python fundamentals 4: testing, type annotation, Python best practices\n"
      ]
    },
    {
      "cell_type": "markdown",
      "metadata": {
        "id": "wvgxOf03sHPQ"
      },
      "source": [
        "## 1. Testing"
      ]
    },
    {
      "cell_type": "markdown",
      "metadata": {
        "id": "83nDmlb4sHPQ"
      },
      "source": [
        "Why do you need to test your code? Well, you have to make sure your code does what it is supposed to do.\n",
        "- The test is used to validate the output against a known response\n",
        "- You have to make sure your function/test return the same result each time no matter how many times it runs\n",
        "\n",
        "When do you need to test your code:\n",
        "- You should **always** test your code.\n",
        "- When you write any code, you should first manually check if its working, and then write a test to test its working \n",
        "    - Note that there is also an opposite process which is to write your test first and then write your code, this process is called *Test Driven Development (TDD)*\n",
        "    - TDD can be very effective, since by writing your tests first, you should think about the edge cases first and your code will produce less bugs\n",
        "- You should test any edge cases that you can think of. Missing handle of the edge cases are mostly the cause of the bugs."
      ]
    },
    {
      "cell_type": "markdown",
      "metadata": {
        "id": "S3LqXU_vsHPQ"
      },
      "source": [
        "### Automated vs. Manual Testing\n",
        "\n",
        "- Manual Testing: \n",
        "    - To have a complete set of manual tests, all you need to do is make a list of all the features your application has, the different types of input it can accept, and the expected results. \n",
        "    - However, every time you make a change to your code, you need to go through every single item on that list and check it.\n",
        "\n",
        "- Automated Testing: use script to execute your test plan. \n",
        "\n",
        "- How do we do automated testing? We use the `assert` keyword"
      ]
    },
    {
      "cell_type": "code",
      "metadata": {
        "id": "kbBsz9hTsHPQ"
      },
      "source": [
        "assert 1 + 2 + 3 == 6, \"Should be 6\""
      ],
      "execution_count": null,
      "outputs": []
    },
    {
      "cell_type": "code",
      "metadata": {
        "colab": {
          "base_uri": "https://localhost:8080/",
          "height": 166
        },
        "id": "AIhwEJVNsHPQ",
        "outputId": "b23a5555-5b6c-4ba4-fb84-c4d46d85a060"
      },
      "source": [
        "assert 1 == 6, \"Should be 6\""
      ],
      "execution_count": null,
      "outputs": [
        {
          "output_type": "error",
          "ename": "AssertionError",
          "evalue": "ignored",
          "traceback": [
            "\u001b[0;31m---------------------------------------------------------------------------\u001b[0m",
            "\u001b[0;31mAssertionError\u001b[0m                            Traceback (most recent call last)",
            "\u001b[0;32m<ipython-input-2-8d310c4aca91>\u001b[0m in \u001b[0;36m<module>\u001b[0;34m()\u001b[0m\n\u001b[0;32m----> 1\u001b[0;31m \u001b[0;32massert\u001b[0m \u001b[0;36m1\u001b[0m \u001b[0;34m==\u001b[0m \u001b[0;36m6\u001b[0m\u001b[0;34m,\u001b[0m \u001b[0;34m\"Should be 6\"\u001b[0m\u001b[0;34m\u001b[0m\u001b[0;34m\u001b[0m\u001b[0m\n\u001b[0m",
            "\u001b[0;31mAssertionError\u001b[0m: Should be 6"
          ]
        }
      ]
    },
    {
      "cell_type": "code",
      "metadata": {
        "id": "rRu4yb0KsHPR"
      },
      "source": [
        "def test_sum(a_list, target):\n",
        "    assert sum(a_list) == target, f\"Should be {target}\""
      ],
      "execution_count": null,
      "outputs": []
    },
    {
      "cell_type": "code",
      "metadata": {
        "id": "wPShtqgRsHPR"
      },
      "source": [
        "test_sum([1,2,3], 6)"
      ],
      "execution_count": null,
      "outputs": []
    },
    {
      "cell_type": "code",
      "metadata": {
        "colab": {
          "base_uri": "https://localhost:8080/",
          "height": 235
        },
        "id": "W69Mz8VksHPR",
        "outputId": "82eb1f67-d91b-4a6c-c207-42efc88db7c9"
      },
      "source": [
        "test_sum([1,2], 6)"
      ],
      "execution_count": null,
      "outputs": [
        {
          "output_type": "error",
          "ename": "AssertionError",
          "evalue": "ignored",
          "traceback": [
            "\u001b[0;31m---------------------------------------------------------------------------\u001b[0m",
            "\u001b[0;31mAssertionError\u001b[0m                            Traceback (most recent call last)",
            "\u001b[0;32m<ipython-input-5-3209b1f0f1b7>\u001b[0m in \u001b[0;36m<module>\u001b[0;34m()\u001b[0m\n\u001b[0;32m----> 1\u001b[0;31m \u001b[0mtest_sum\u001b[0m\u001b[0;34m(\u001b[0m\u001b[0;34m[\u001b[0m\u001b[0;36m1\u001b[0m\u001b[0;34m,\u001b[0m\u001b[0;36m2\u001b[0m\u001b[0;34m]\u001b[0m\u001b[0;34m,\u001b[0m \u001b[0;36m6\u001b[0m\u001b[0;34m)\u001b[0m\u001b[0;34m\u001b[0m\u001b[0;34m\u001b[0m\u001b[0m\n\u001b[0m",
            "\u001b[0;32m<ipython-input-3-6a5092c1c76c>\u001b[0m in \u001b[0;36mtest_sum\u001b[0;34m(a_list, target)\u001b[0m\n\u001b[1;32m      1\u001b[0m \u001b[0;32mdef\u001b[0m \u001b[0mtest_sum\u001b[0m\u001b[0;34m(\u001b[0m\u001b[0ma_list\u001b[0m\u001b[0;34m,\u001b[0m \u001b[0mtarget\u001b[0m\u001b[0;34m)\u001b[0m\u001b[0;34m:\u001b[0m\u001b[0;34m\u001b[0m\u001b[0;34m\u001b[0m\u001b[0m\n\u001b[0;32m----> 2\u001b[0;31m     \u001b[0;32massert\u001b[0m \u001b[0msum\u001b[0m\u001b[0;34m(\u001b[0m\u001b[0ma_list\u001b[0m\u001b[0;34m)\u001b[0m \u001b[0;34m==\u001b[0m \u001b[0mtarget\u001b[0m\u001b[0;34m,\u001b[0m \u001b[0;34mf\"Should be {target}\"\u001b[0m\u001b[0;34m\u001b[0m\u001b[0;34m\u001b[0m\u001b[0m\n\u001b[0m",
            "\u001b[0;31mAssertionError\u001b[0m: Should be 6"
          ]
        }
      ]
    },
    {
      "cell_type": "markdown",
      "metadata": {
        "id": "Y7lYmc6TsHPR"
      },
      "source": [
        "### Unit Tests vs. Integration Tests\n",
        "\n",
        "- Unit test and integration test are two very important terminology in the world of testing\n",
        "\n",
        "- Unit test: test a single component/function\n",
        "\n",
        "- Integration test: test multiple components\n",
        "\n",
        "- For example: Suppose we have a calculator that does simple `+-*/` calculation\n",
        "    - We have the following unit test:\n",
        "        - Turn on the calculator, display works\n",
        "        - Punch in numbers, display shows correct numbers\n",
        "        - Simple calculation works, such as `1+1=2`, `1-1=0`, `1*1=1`, `1/1=1`\n",
        "    - We have the following integration test:\n",
        "        - Complex calculation works, such as `5*(20+3) - 8 = 107`\n",
        "        \n",
        "        "
      ]
    },
    {
      "cell_type": "markdown",
      "metadata": {
        "id": "NlplDGsysHPR"
      },
      "source": [
        "### Test framework\n",
        "\n",
        "- Although we can write test code from scratch, there are two famous test frameworks in Python:\n",
        "    - Unittest (built into Python standard library since Python 2.1)\n",
        "    - Pytest\n",
        "    - nose/nose2 (not so popular nowadays, you may see it in some leacy code)"
      ]
    },
    {
      "cell_type": "markdown",
      "metadata": {
        "id": "89x61GRIsHPR"
      },
      "source": [
        "#### Unittest framework\n",
        "\n",
        "How to use unittest:\n",
        "\n",
        "1. `import unittest`\n",
        "2. Created a test class to inherit from `TestCase`\n",
        "3. You can use `self.assert_` to assert different cases, such as *equal*, *in*, etc\n",
        "\n",
        "For example:\n",
        "\n",
        "```python\n",
        "import unittest\n",
        "\n",
        "\n",
        "class TestSum(unittest.TestCase):\n",
        "\n",
        "    def test_sum(self):\n",
        "        self.assertEqual(sum([1, 2, 3]), 6, \"Should be 6\")\n",
        "\n",
        "    def test_sum_tuple(self):\n",
        "        self.assertEqual(sum([1, 2, 2]), 6, \"Should be 6\")\n",
        "\n",
        "if __name__ == '__main__':\n",
        "    # This means that if you execute the script alone by running python test.py at \n",
        "    # the command line, it will call unittest.main()\n",
        "    unittest.main()\n",
        "```\n",
        "\n",
        "- When you would like to do something prior to the tests (such as setup some data or functions), you can use `setUp` method.\n",
        "- When you would like to clean up after the tests are done (such as delete some content, reset some configurations, etc), you can use the `tearDown` method.\n",
        "- A good example of the test class looks like:\n",
        "\n",
        "```python\n",
        "    class TestXxx(unittest.TestCase):\n",
        "\n",
        "        def setUp(self):\n",
        "            \"\"\" setup for test cases \"\"\"\n",
        "            pass\n",
        "\n",
        "        def tearDown(self):\n",
        "            \"\"\" CLeanup for test cases \"\"\"\n",
        "            pass\n",
        "\n",
        "        def test_yyy_description1(self):\n",
        "            \"\"\" test description 1 \"\"\"\n",
        "            pass\n",
        "\n",
        "        def test_yyy_description2(self):\n",
        "            \"\"\" test description 2 \"\"\"\n",
        "            pass\n",
        "```\n",
        "    \n",
        "- Unittest has many builtin methods for quick testing, such as test equals, element inside list, a detailed list can be seen in the Reference lists\n",
        "- You can also test if there is an error in the code (i.e. test expected failures happens) using `self.assertRaises`\n",
        "\n",
        "```python\n",
        "    def test_bad_type(self):\n",
        "        data = \"banana\"\n",
        "        with self.assertRaises(TypeError):\n",
        "            result = sum(data)\n",
        "```"
      ]
    },
    {
      "cell_type": "markdown",
      "metadata": {
        "id": "21yeWVI1sHPR"
      },
      "source": [
        "#### Pytest  framework\n",
        "\n",
        "Pytest is built upon unittest, so ALL your unittest code can work seemlessly with pytest.\n",
        "\n",
        "Benefits of Pytest over unittest:\n",
        "\n",
        "1. pytest test cases are a series of functions in a Python file starting with the name `test_`, so its function based rather than class based.\n",
        "2. Support for the built-in `assert` statement instead of using special `self.assert*()` methods\n",
        "3. Support for filtering for test cases\n",
        "4. Ability to rerun from the last failing test\n",
        "5. Better debug information\n",
        "6. An ecosystem of hundreds of plugins to extend the functionality\n",
        "\n",
        "How to use Pytest:\n",
        "\n",
        "```python\n",
        "def test_sum(a_list, target):\n",
        "    assert sum(a_list) == target, f\"Should be {target}\"\n",
        "```\n",
        "\n",
        "Similarly, pytest can also assert exception as follows:\n",
        "\n",
        "```python\n",
        "def test_zero_division():\n",
        "    with pytest.raises(ZeroDivisionError):\n",
        "        1 / 0\n",
        "```"
      ]
    },
    {
      "cell_type": "markdown",
      "metadata": {
        "id": "Z31SyjRIsHPR"
      },
      "source": [
        "### Test file structure\n",
        "\n",
        "There are basically two ways you can structure your files for your project:\n",
        "\n",
        "First one is to have your test files in a test folder outside of the applicaiton code (**Preferred**):\n",
        "\n",
        "```\n",
        "project/\n",
        "│\n",
        "├── my_sum/\n",
        "│   └── __init__.py\n",
        "|\n",
        "└── tests/\n",
        "     └── test_my_sum.py\n",
        "```\n",
        "\n",
        "The second one is to have your test files in your application code folder:\n",
        "\n",
        "```\n",
        "project/\n",
        "│\n",
        "└── my_sum/\n",
        "      ├── __init__.py\n",
        "      |\n",
        "      └── tests/\n",
        "            └── test_my_sum.py   \n",
        "```"
      ]
    },
    {
      "cell_type": "markdown",
      "metadata": {
        "id": "zujxECYFsHPR"
      },
      "source": [
        "### Test execution\n",
        "\n",
        "The Python application that executes your test code, checks the assertions, and gives you test results in your console is called the **test runner**.\n",
        "\n",
        "How do you run the test in command line:\n",
        "\n",
        "- To run the test: `python -m unittest test`  (suppose your test file is named as `test.py`)\n",
        "    - Note that you can also run specific test function with `python -m unittest test.TestClass.test_method`\n",
        "- Add `-v` flag for print more info into the consol: `python -m unittest -v test`\n",
        "    - Note you can also add multiple `v` flags for more detailed info\n",
        "- Use auto-discovery for patterns rather than file name: `python -m unittest discover`\n",
        "    - It will detect and run all the files named `test*.py` in the current directory (i.e. `test_sum.py` etc)"
      ]
    },
    {
      "cell_type": "markdown",
      "metadata": {
        "id": "90HE4PJ2sHPR"
      },
      "source": [
        "### Read test output\n",
        "\n",
        "Suppose you have the following output:\n",
        "\n",
        "```\n",
        "$ python -m unittest test\n",
        "F.\n",
        "======================================================================\n",
        "FAIL: test_list_fraction (test.TestSum)\n",
        "----------------------------------------------------------------------\n",
        "Traceback (most recent call last):\n",
        "  File \"test.py\", line 21, in test_list_fraction\n",
        "    self.assertEqual(result, 1)\n",
        "AssertionError: Fraction(9, 10) != 1\n",
        "\n",
        "----------------------------------------------------------------------\n",
        "Ran 2 tests in 0.001s\n",
        "\n",
        "FAILED (failures=1)\n",
        "```\n",
        "\n",
        "What does it mean?\n",
        "\n",
        "- `F` means the test failed, `.` means the test passed\n",
        "- The `Traceback` shows you where the error happened, and line number indicates which line the error happened\n",
        "- The `AssertionError` shows what error happened: expected result *(1)* and the actual result *(Fraction(9, 10))*\n",
        "\n",
        "**NOTE** you can configure your IDE to run tests too, details in the Reference links"
      ]
    },
    {
      "cell_type": "markdown",
      "metadata": {
        "id": "r-YEFRnEsHPR"
      },
      "source": [
        "### Fixtures\n",
        "\n",
        "- The data that you create as an input is known as a **fixture**. It’s common practice to create fixtures and reuse them.\n",
        "- You can write your own function from scratch to create fixtures, or you can use thrid party packages\n",
        "- pytest framework has builtin functions to mark your functions as fixtures\n",
        "- `Factory Boy` is a famous package for creating fixtures with ORMs (to initiate some data in database)\n"
      ]
    },
    {
      "cell_type": "markdown",
      "metadata": {
        "id": "GJKwlIWbsHPR"
      },
      "source": [
        "### Mocks\n",
        "\n",
        "- Mocks are another important part of unit testing. \n",
        "- As of Python 3.3 and later, mock became a standard library in python, you can import it in `unittest.mock`\n",
        "- Since unit testing is to test a specific function, sometimes we don't care about the other parts of the functions and that's why we mock them.\n",
        "- We also use mocks to control your code's behavior during testing. In another word, your tests execute predictably only so far as the environments are behaving as you expected.\n",
        "\n",
        "For exmaple:"
      ]
    },
    {
      "cell_type": "code",
      "metadata": {
        "id": "WylLkaCrsHPR"
      },
      "source": [
        "from datetime import datetime\n",
        "from unittest.mock import Mock\n",
        "\n",
        "# Save a couple of test days\n",
        "tuesday = datetime(year=2019, month=1, day=1)\n",
        "saturday = datetime(year=2019, month=1, day=5)\n",
        "\n",
        "# Mock datetime to control today's date\n",
        "datetime = Mock()\n",
        "\n",
        "def is_weekday():\n",
        "    today = datetime.today()\n",
        "    # Python's datetime library treats Monday as 0 and Sunday as 6\n",
        "    return (0 <= today.weekday() < 5)"
      ],
      "execution_count": null,
      "outputs": []
    },
    {
      "cell_type": "code",
      "metadata": {
        "id": "61g5spjesHPR"
      },
      "source": [
        "# Mock .today() to return Tuesday\n",
        "datetime.today.return_value = tuesday\n",
        "\n",
        "# Test Tuesday is a weekday\n",
        "assert is_weekday()\n",
        "\n",
        "# Mock .today() to return Saturday\n",
        "datetime.today.return_value = saturday\n",
        "\n",
        "# Test Saturday is not a weekday\n",
        "assert not is_weekday()"
      ],
      "execution_count": null,
      "outputs": []
    },
    {
      "cell_type": "markdown",
      "metadata": {
        "collapsed": true,
        "id": "e5xXuY1_sHPR"
      },
      "source": [
        "### References\n",
        "\n",
        "- [Getting Started With Testing in Python](https://realpython.com/python-testing/)\n",
        "- [python Unittest](https://docs.python.org/3/library/unittest.html)\n",
        "- [Unittest Cheatsheet](https://gist.github.com/mogproject/fc7c4e94ba505e95fa03)\n",
        "- [pytest Cheatsheet](https://www.valentinog.com/blog/pytest/)\n",
        "- [Test directory structure](https://docs.pytest.org/en/reorganize-docs/new-docs/user/directory_structure.html)\n",
        "- [How to run test in Pycharm](https://www.jetbrains.com/help/pycharm/performing-tests.html)\n",
        "- [Python testing in VScode](https://code.visualstudio.com/docs/python/testing)\n",
        "- [Testing in django](https://docs.djangoproject.com/en/dev/topics/testing/overview/)\n",
        "- [Understanding the Python Mock Object Library](https://realpython.com/python-mock-library/)"
      ]
    },
    {
      "cell_type": "markdown",
      "metadata": {
        "id": "_5f57sdmsHPR"
      },
      "source": [
        "## 2. Type annotation"
      ]
    },
    {
      "cell_type": "markdown",
      "metadata": {
        "id": "-1mZ7KX5sHPR"
      },
      "source": [
        "As we all know python types are really flexible (weakly typed), but this could create some confusions in the code.\n",
        "\n",
        "Python 3.6 introduced type annotation. [**PEP 526**](https://www.python.org/dev/peps/pep-0526/) describes it in full details."
      ]
    },
    {
      "cell_type": "code",
      "metadata": {
        "id": "KTd262WCsHPR"
      },
      "source": [
        "age: int = 1\n",
        "\n",
        "# In Python 3.5 and earlier you can use a type comment instead\n",
        "# (equivalent to the previous definition)\n",
        "age = 1  # type: int\n",
        "\n",
        "# You don't need to initialize a variable to annotate it\n",
        "a: int  # Ok (no value at runtime until assigned)\n",
        "\n",
        "# The latter is useful in conditional branches\n",
        "child: bool\n",
        "if age < 18:\n",
        "    child = True\n",
        "else:\n",
        "    child = False"
      ],
      "execution_count": null,
      "outputs": []
    },
    {
      "cell_type": "markdown",
      "metadata": {
        "id": "-3MANYVzsHPR"
      },
      "source": [
        "You can anotate variables, functions, classes, pretty much anything"
      ]
    },
    {
      "cell_type": "code",
      "metadata": {
        "id": "aI31nBHusHPR"
      },
      "source": [
        "# this function has an input type str and return type str\n",
        "def greeting(name: str) -> str:\n",
        "    return 'Hello ' + name"
      ],
      "execution_count": null,
      "outputs": []
    },
    {
      "cell_type": "markdown",
      "metadata": {
        "id": "1tZUZM8osHPR"
      },
      "source": [
        "There are many builtin types you can use:"
      ]
    },
    {
      "cell_type": "code",
      "metadata": {
        "id": "pHEl0AAhsHPR"
      },
      "source": [
        "from typing import List, Set, Dict, Tuple\n",
        "\n",
        "# For simple built-in types, just use the name of the type\n",
        "x: int = 1\n",
        "x: float = 1.0\n",
        "x: bool = True\n",
        "x: str = \"test\"\n",
        "x: bytes = b\"test\"\n",
        "\n",
        "# For collections, the name of the type is capitalized, and the\n",
        "# name of the type inside the collection is in brackets\n",
        "x: List[int] = [1]\n",
        "x: Set[int] = {6, 7}\n",
        "\n",
        "# Same as above, but with type comment syntax\n",
        "x = [1]  # type: List[int]\n",
        "\n",
        "# For mappings, we need the types of both keys and values\n",
        "x: Dict[str, float] = {'field': 2.0}\n",
        "\n",
        "# For tuples of fixed size, we specify the types of all the elements\n",
        "x: Tuple[int, str, float] = (3, \"yes\", 7.5)\n",
        "\n",
        "# For tuples of variable size, we use one type and ellipsis\n",
        "x: Tuple[int, ...] = (1, 2, 3)"
      ],
      "execution_count": null,
      "outputs": []
    },
    {
      "cell_type": "markdown",
      "metadata": {
        "id": "oBY8e6R4sHPR"
      },
      "source": [
        "You can also create custom types for you code"
      ]
    },
    {
      "cell_type": "code",
      "metadata": {
        "id": "u4z2GB7CsHPR"
      },
      "source": [
        "from typing import NewType\n",
        "\n",
        "UserId = NewType('UserId', int)\n",
        "some_id = UserId(524313)"
      ],
      "execution_count": null,
      "outputs": []
    },
    {
      "cell_type": "markdown",
      "metadata": {
        "id": "YMXjy-y5sHPR"
      },
      "source": [
        "Combine them together, you can annotate your function easily:"
      ]
    },
    {
      "cell_type": "code",
      "metadata": {
        "id": "MTVL0vPlsHPR"
      },
      "source": [
        "from typing import Callable, Iterator, Union, Optional, List\n",
        "\n",
        "def send_email(\n",
        "    address: Union[str, List[str]],\n",
        "    sender: str,\n",
        "    cc: Optional[List[str]],\n",
        "    bcc: Optional[List[str]],\n",
        "    subject='',\n",
        "    body: Optional[List[str]] = None\n",
        ") -> bool:\n",
        "    pass"
      ],
      "execution_count": null,
      "outputs": []
    },
    {
      "cell_type": "markdown",
      "metadata": {
        "id": "5CpYd0kQsHPR"
      },
      "source": [
        "### Reference\n",
        "\n",
        "- [Type hints cheat sheet (Python 3)](https://mypy.readthedocs.io/en/stable/cheat_sheet_py3.html)\n",
        "- [Python Type Checking (Guide)](https://realpython.com/python-type-checking/)"
      ]
    },
    {
      "cell_type": "markdown",
      "metadata": {
        "id": "hOSN_gd8sHPR"
      },
      "source": [
        "## 3. Python Best practices\n",
        "\n",
        "I've seen so much code with bad practice (leetcode, kaggle, open source projects, etc), that's why I would like to show you what are the Python best practices.\n",
        "\n",
        "**DISCLAIMER**: This presentation is entirely subjective, and is based on author’s experience, \u000band what’s widely accepted by Python devs\n",
        "\n",
        "All python code is guided by Python Enhancement Proposals (***PEP***s)\n"
      ]
    },
    {
      "cell_type": "markdown",
      "metadata": {
        "id": "xkXAaa2R09ET"
      },
      "source": [
        "### Virtual Environment\n",
        "\n",
        "Since Python has many different versions, and there are many packages with different versions, its always best to use virtual enviornments to make sure the verions are properly isolated.\n",
        "\n",
        "There are mainly three virtual environments:\n",
        "- Virtualenv\n",
        "- Anaconda\n",
        "- Pipenv\n",
        "\n",
        "#### Virtualenv\n",
        "\n",
        "- Most widely used\n",
        "- The package `virtualenvwrapper` makes everything much eaiser\n",
        "    - `makevirtualenv`\n",
        "    - `workon` and `deactivate`\n",
        "    - `setvirtualenvproject`\n",
        "\n",
        "#### Anaconda\n",
        "\n",
        "- Most widely used in the AI areas (ML, DS, etc)\n",
        "- Integration of many packages\n",
        "- Commands slightly different or Win and Mac\n",
        "- Some commands\n",
        "    - `conda  create –n <env_name>`\n",
        "    - `conda install <package_name>`\n",
        "    - `source activate` & `source deactivate`\n",
        "\n",
        "#### Pipenv\n",
        "\n",
        "- New standard of python packages\n",
        "- Combination of pip and virtualenv\n",
        "- Dependency version lock\n",
        "- Some Commands:\n",
        "    - `pipenv shell`\n",
        "    - `pipenv install <package_name>`\n",
        "    - `pipenv  install --dev`\n",
        "\n",
        "\n",
        "    "
      ]
    },
    {
      "cell_type": "markdown",
      "metadata": {
        "id": "V7xPSVGn2iWy"
      },
      "source": [
        "### Code Structure \n",
        "\n",
        "```\n",
        "project/\n",
        "│\n",
        "├── src/\n",
        "│   ├── __init__.py\n",
        "│   └── main_func.py\n",
        "|\n",
        "├── tests/\n",
        "│    └── test_my_func.py\n",
        "|\n",
        "├── README.md\n",
        "|\n",
        "├── License\n",
        "|\n",
        "├── requirements.txt\n",
        "|\n",
        "├── Documentations/\n",
        "│    └── my_doc.md\n",
        "|\n",
        "└─ setup.py  # if this is a package\n",
        "```"
      ]
    },
    {
      "cell_type": "markdown",
      "metadata": {
        "id": "ZucNsU5x3j6T"
      },
      "source": [
        "### Formatting, linting, and typing\n",
        "\n",
        "**Format** is how you write your code\n",
        "\n",
        "**Linting** is a way to check your code's format\n",
        "\n",
        "**Types** are the annotations talked above\n",
        "\n",
        "These two things you ***MUST*** remember:\n",
        "- ***PEP8***: Official style guide for Python code\n",
        "    - https://www.python.org/dev/peps/pep-0008/\n",
        "- ***Black***: the Uncompromising Code Formatter\n",
        "    - More readability, great formatting\n",
        "    - One of  the official supported formatter for VSCode\n",
        "    - Django has accepted using black as formatting as of May 10, 2019\n",
        "\n",
        "***Code is executed by machines, but is read by human***\n",
        "\n",
        "For example:\n",
        "\n",
        "<table>\n",
        "  <tr>\n",
        "    <th>Badly formated code</th>\n",
        "    <th>Good foramted code</th>\n",
        "  </tr>\n",
        "<tr>\n",
        "<td>\n",
        "   <pre lang=\"python\">\n",
        " autoencoder = create_autoencoder(dae_train.shape[1])\n",
        "\n",
        "    autoencoder.fit(noised_train, dae_train,\n",
        "                    epochs=500,\n",
        "                    batch_size=128,\n",
        "                    callbacks=[\n",
        "                        ReduceLROnPlateau(monitor='val_loss', factor=0.1, patience = 3, verbose=1, min_delta=1e-4, mode='min')\n",
        "                        , ModelCheckpoint(f'dae.hdf5', monitor = 'val_loss', verbose = 0, save_best_only = True, save_weights_only = True, mode = 'min')\n",
        "                        , EarlyStopping(monitor = 'val_loss', min_delta = 1e-4, patience = 8, mode = 'min', baseline = None, restore_best_weights = True)],\n",
        "                    shuffle=True,\n",
        "                    validation_split=0.2)\n",
        "   </pre>\n",
        "</td>\n",
        "<td>\n",
        "  <pre lang=\"python\">\n",
        " autoencoder = create_autoencoder(dae_train.shape[1])\n",
        "\n",
        "    autoencoder.fit(\n",
        "        noised_train,\n",
        "        dae_train,\n",
        "        epochs=500,\n",
        "        batch_size=128,\n",
        "        callbacks=[\n",
        "            ReduceLROnPlateau(\n",
        "                monitor='val_loss',\n",
        "                factor=0.1,\n",
        "                patience=3,\n",
        "                verbose=1,\n",
        "                min_delta=1e-4,\n",
        "                mode='min',\n",
        "            ),\n",
        "            ModelCheckpoint(\n",
        "                f'dae.hdf5',\n",
        "                monitor='val_loss',\n",
        "                verbose=0,\n",
        "                save_best_only=True,\n",
        "                save_weights_only=True,\n",
        "                mode='min',\n",
        "            ),\n",
        "            EarlyStopping(\n",
        "                monitor='val_loss',\n",
        "                min_delta=1e-4,\n",
        "                patience=8,\n",
        "                mode='min',\n",
        "                baseline=None,\n",
        "                restore_best_weights=True,\n",
        "            ),\n",
        "        ],\n",
        "        shuffle=True,\n",
        "        validation_split=0.2,\n",
        "    )\n",
        "  </pre>\n",
        "</td>\n",
        "</tr>\n",
        "\n",
        "\n"
      ]
    },
    {
      "cell_type": "code",
      "metadata": {
        "colab": {
          "base_uri": "https://localhost:8080/"
        },
        "id": "P8BXT33BNttQ",
        "outputId": "12ceefd2-05f6-49bf-e3de-4b2f3f3d45e6"
      },
      "source": [
        "a_dict = dict(\n",
        "    name=\"Carson\",\n",
        "    title=\"developer\",\n",
        "    name1=\"Carson\",\n",
        "    title2=\"developer\",\n",
        "    name3=\"Carson\",\n",
        "    title4=\"developer\",\n",
        ")\n",
        "print(a_dict)\n",
        "\n",
        "from pprint import pprint\n",
        "pprint(a_dict)"
      ],
      "execution_count": null,
      "outputs": [
        {
          "output_type": "stream",
          "text": [
            "{'name': 'Carson', 'title': 'developer', 'name1': 'Carson', 'title2': 'developer', 'name3': 'Carson', 'title4': 'developer'}\n",
            "{'name': 'Carson',\n",
            " 'name1': 'Carson',\n",
            " 'name3': 'Carson',\n",
            " 'title': 'developer',\n",
            " 'title2': 'developer',\n",
            " 'title4': 'developer'}\n"
          ],
          "name": "stdout"
        }
      ]
    },
    {
      "cell_type": "code",
      "metadata": {
        "id": "uYFtvuXDOtuV"
      },
      "source": [
        "import datetime\n",
        "\n",
        "\n",
        "def get_week():\n",
        "  pass"
      ],
      "execution_count": null,
      "outputs": []
    },
    {
      "cell_type": "markdown",
      "metadata": {
        "id": "UZoN3mSv70Zz"
      },
      "source": [
        "#### Indentation\n",
        "\n",
        "- Python recognizes both space and tab for indentation level\n",
        "- PEP8 suggests using space\n",
        "- **4 spaces** per indentation level\n",
        "- must **NEVER MIX** spaces and tabs\n",
        "\n",
        "#### Strings\n",
        "\n",
        "- People use to use single quote (**‘** **’**) coz its easier to type\n",
        "- Double quote (**“** **”**) is used by English language\n",
        "- **Black suggests to use double quotes to reduce confusion**\n",
        "    - For example:\n",
        "        - `print(f\"You've never seen this {animal} before\")`\n",
        "        - `print(f'You\\'ve never seen this {animal} before')`\n",
        "- You can use `--skip-string-normalization` to stop black formatting your quotations\n",
        "\n",
        "#### Line length\n",
        "\n",
        "- PEP8 suggests all lines limit to 79 characters, and 72 characters for comments\n",
        "- Many companies use line length from 100 to 120 characters\n",
        "- **Black suggests using 88 characters per line**\n",
        "\n",
        "### Line break\n",
        "\n",
        "- PEP8 suggests line break after binary operators for readability\n",
        "\n",
        "  ```python\n",
        "  # Correct:\n",
        "  # easy to match operators with operands\n",
        "  income = (gross_wages\n",
        "            + taxable_interest\n",
        "            + (dividends - qualified_dividends)\n",
        "            - ira_deduction\n",
        "            - student_loan_interest)\n",
        "  ```\n",
        "\n",
        "- Surround top-level function and class definitions with *two blank lines*\n",
        "- Method definitions inside a class are surrounded by a single blank line\n",
        "\n",
        "#### Imports\n",
        "\n",
        "- Be explicit\n",
        "\n",
        "  ```python\n",
        "  # Correct:\n",
        "  from subprocess import Popen, PIPE\n",
        "  ```\n",
        "\n",
        "- Imports should be on separate lines\n",
        "\n",
        "  ```python\n",
        "  # Correct:\n",
        "  import os\n",
        "  import sys\n",
        "  ```\n",
        "  ```python\n",
        "  # Wrong:\n",
        "  import sys, os\n",
        "  ```\n",
        "\n",
        "- Imports order:\n",
        "  1. Standard lib\n",
        "  2. Related 3rd party \n",
        "  3. Local lib\n",
        "\n",
        "- What if there are too many classes need to be imported from 1 package?\n",
        "\n",
        "  ```python\n",
        "  from sklearn.model_selection import (\n",
        "      TimeSeriesSplit,\n",
        "      KFold,\n",
        "      ShuffleSplit,\n",
        "      StratifiedKFold,\n",
        "      GroupShuffleSplit,\n",
        "      GroupKFold,\n",
        "      StratifiedShuffleSplit,\n",
        "      train_test_split,\n",
        "  )\n",
        "  ```\n",
        "\n",
        "#### Call Chains\n",
        "\n",
        "Some popular APIs, like ORMs, use call chaining.\n",
        "\n",
        "Here is how black formats it:\n",
        "\n",
        "```python\n",
        "def example(session):\n",
        "    result = (\n",
        "        session.query(models.Customer.id)\n",
        "        .filter(\n",
        "            models.Customer.account_id == account_id,\n",
        "            models.Customer.email == email_address,\n",
        "        )\n",
        "        .order_by(models.Customer.id.asc())\n",
        "        .all()\n",
        "    )\n",
        "```\n",
        "\n"
      ]
    },
    {
      "cell_type": "markdown",
      "metadata": {
        "id": "hTqEl5_4Cuvk"
      },
      "source": [
        "#### Long String\n",
        "\n",
        "- When you have a super long string, you can break it up to a few lines\n",
        "- Use triple quotation\n",
        "- Use plus sign, but it creates more strings\n",
        "- Or do multiple lines"
      ]
    },
    {
      "cell_type": "code",
      "metadata": {
        "id": "IWClXKAw2gHZ",
        "colab": {
          "base_uri": "https://localhost:8080/"
        },
        "outputId": "e7afff0a-2cc0-4366-f510-e5d6c79c00f8"
      },
      "source": [
        "# Break into a few lines\n",
        "message1 = (\n",
        "  \"some really long message\"\n",
        "  \"and some really really long message\"\n",
        ")\n",
        "print(f\"1. Break into a few lines: {message1}\")\n",
        "\n",
        "# Use triple quotation \n",
        "message2 = \"\"\"\n",
        "  some really long message\n",
        "  and some really really long message\n",
        "\"\"\"\n",
        "print(f\"2. Use triple quotation: {message2}\")\n",
        "\n",
        "# Break into a few lines\n",
        "message3 = (\n",
        "  \"some really long message\"\n",
        "  + \"and some really really long message\"\n",
        ")\n",
        "print(f\"3. Use plus sign: {message3}\")"
      ],
      "execution_count": null,
      "outputs": [
        {
          "output_type": "stream",
          "text": [
            "1. Break into a few lines: some really long messageand some really really long message\n",
            "2. Use triple quotation: \n",
            "  some really long message\n",
            "  and some really really long message\n",
            "\n",
            "3. Use plus sign: some really long messageand some really really long message\n"
          ],
          "name": "stdout"
        }
      ]
    },
    {
      "cell_type": "markdown",
      "metadata": {
        "id": "wxkyJipdDuVL"
      },
      "source": [
        "#### Naming Convention\n",
        "\n",
        "- Use meaningful words rather than single letters\n",
        "    - i.e. `user_id`\n",
        "    - ***NOTE*** that this also applies to functions, variables, and everything!\n",
        "        - i.e. `get_user_id()`, `user_profile_groupped_by_id = dict()`\n",
        "- Function name: all lower case and separate with underscore\n",
        "    - i.e. `def my_function()`\n",
        "- Class name: Capitalized words all together\n",
        "    - i.e. `class MyClass:`\n",
        "- Constants: All capital words\n",
        "    - i.e. `MY_CONSTANT = 5`\n",
        "- _single_leading_underscore: weak \"internal use\" indicator\n",
        "- __double_leading_underscore: invokes name mangling for class attribute\n",
        "\n",
        "#### White Space\n",
        "\n",
        "- Immediately inside parentheses, brackets or braces\n",
        "    - `spam(ham[1], {eggs: 2})`\n",
        "- Between a trailing comma and a following close parenthesis\n",
        "    - `foo = (0,)`\n",
        "- Immediately before a comma, semicolon, or colon\n",
        "    - `x, y = y, x`\n",
        "- Immediately before the open parenthesis that starts the argument list of a function call or starts an indexing or slicing\n",
        "    - `spam(1)`, `dct['key'] = lst[index]`\n",
        "- More than one space around an assignment (or other) operator to align it with another\n",
        "\n",
        "  ```python\n",
        "  x = 1\n",
        "  y = 2\n",
        "  long_variable = 3\n",
        "  ```\n",
        "\n",
        "\n",
        "#### Doc String\n",
        "\n",
        "- Write docstrings for all public modules, functions, classes, and methods\n",
        "- Triple quotation marks **“”””””** for long string or comments \n",
        "- **PEP 257 describes good docstring conventions**\n",
        "\n",
        "#### Function Annotation\n",
        "\n",
        "- Python is weak typing language\n",
        "- **PEP 526 is accepted for Python 3.6 as type hints (PEP 484) but not type reinforcement**\n",
        "\n",
        "\n"
      ]
    },
    {
      "cell_type": "markdown",
      "metadata": {
        "id": "g8Lbi07TF9Fc"
      },
      "source": [
        "#### Helpful Tools\n",
        "\n",
        "- **Black** – Yes, again, black\n",
        "- **isort** - sort imports alphabetically, and automatically separated into sections\n",
        "- **flake8** – style reinforcement\n",
        "- **mypy** – static type check\n",
        "- **pytest** – built upon but better than unittest\n",
        "- **pytest-cov** – test code coverage\n",
        "- **Git hooks with pre-commit**\n",
        "- **cookiecutter** – project template\n",
        "- **pysnoob & pudb** – better debugging\n"
      ]
    },
    {
      "cell_type": "markdown",
      "metadata": {
        "id": "U8vXfe9QF5q-"
      },
      "source": [
        "#### Reference\n",
        "\n",
        "- [PEP8](https://www.python.org/dev/peps/pep-0008/)\n",
        "- [PEP257](https://www.python.org/dev/peps/pep-0257/)\n",
        "- [PEP526](https://www.python.org/dev/peps/pep-0526/)\n",
        "- [Black code style guide](https://black.readthedocs.io/en/stable/the_black_code_style.html)\n",
        "- [Python Best Practice](https://github.com/zmcddn/Presentations/blob/master/Calgary%20Python%20Meetup%20PyYYC/Python%20Best%20Practice.pdf)\n",
        "\n",
        "**Some links for setting up environments**\n",
        "\n",
        "- [Pipenv Tutorial - the official package control for python](https://zmcddn.github.io/pipenv-tutorial-the-official-package-control-for-python.html)\n",
        "- [Setup Virtualenv for Any Project](https://zmcddn.github.io/setup-virtualenv-for-any-project.html)\n",
        "- [The ultimate guide to setup multiple Python environment with Anaconda and Sublime Text](https://zmcddn.github.io/the-ultimate-guide-to-setup-multiple-python-environment-with-anaconda-and-sublime-text.html)"
      ]
    },
    {
      "cell_type": "markdown",
      "metadata": {
        "id": "R12TyFbMXBH3"
      },
      "source": [
        "## At last\n",
        "\n",
        "- Google is your best friend, before asking any question, do a google search first.\n",
        "- Black is also your best friend when comming to Python, make sure you follow the Python best practices.\n",
        "- Please always test your code!\n",
        "- Good luck on your career!"
      ]
    }
  ]
}