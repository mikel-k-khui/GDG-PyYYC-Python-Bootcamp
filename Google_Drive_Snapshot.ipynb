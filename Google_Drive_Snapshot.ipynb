{
  "nbformat": 4,
  "nbformat_minor": 0,
  "metadata": {
    "colab": {
      "provenance": [],
      "include_colab_link": true
    },
    "kernelspec": {
      "name": "python3",
      "display_name": "Python 3"
    },
    "language_info": {
      "name": "python"
    }
  },
  "cells": [
    {
      "cell_type": "markdown",
      "metadata": {
        "id": "view-in-github",
        "colab_type": "text"
      },
      "source": [
        "<a href=\"https://colab.research.google.com/github/mikel-k-khui/GDG-PyYYC-Python-Bootcamp/blob/main/Google_Drive_Snapshot.ipynb\" target=\"_parent\"><img src=\"https://colab.research.google.com/assets/colab-badge.svg\" alt=\"Open In Colab\"/></a>"
      ]
    },
    {
      "cell_type": "markdown",
      "source": [
        "# Google Drive Snapshot Generator"
      ],
      "metadata": {
        "id": "9oAH5mzbjlpE"
      }
    },
    {
      "cell_type": "markdown",
      "source": [
        "### Setup\n",
        "This script will connect Colabatory to Google Drive."
      ],
      "metadata": {
        "id": "GRmC6dOyl4yK"
      }
    },
    {
      "cell_type": "code",
      "source": [
        "from google.colab import drive\n",
        "drive.mount('/content/gdrive')"
      ],
      "metadata": {
        "colab": {
          "base_uri": "https://localhost:8080/",
          "height": 200
        },
        "id": "QY40mk0xl-8h",
        "outputId": "51478f0a-8dda-4fa3-b308-4e838fbe8653"
      },
      "execution_count": null,
      "outputs": [
        {
          "output_type": "error",
          "ename": "ModuleNotFoundError",
          "evalue": "ignored",
          "traceback": [
            "\u001b[1;31m---------------------------------------------------------------------------\u001b[0m",
            "\u001b[1;31mModuleNotFoundError\u001b[0m                       Traceback (most recent call last)",
            "Cell \u001b[1;32mIn[1], line 1\u001b[0m\n\u001b[1;32m----> 1\u001b[0m \u001b[38;5;28;01mfrom\u001b[39;00m \u001b[38;5;21;01mgoogle\u001b[39;00m\u001b[38;5;21;01m.\u001b[39;00m\u001b[38;5;21;01mcolab\u001b[39;00m \u001b[38;5;28;01mimport\u001b[39;00m drive\n\u001b[0;32m      2\u001b[0m drive\u001b[38;5;241m.\u001b[39mmount(\u001b[38;5;124m'\u001b[39m\u001b[38;5;124m/content/gdrive\u001b[39m\u001b[38;5;124m'\u001b[39m)\n\u001b[0;32m      4\u001b[0m \u001b[38;5;28;01mfrom\u001b[39;00m \u001b[38;5;21;01msqlalchemy\u001b[39;00m \u001b[38;5;28;01mimport\u001b[39;00m create_engine\n",
            "\u001b[1;31mModuleNotFoundError\u001b[0m: No module named 'google.colab'"
          ]
        }
      ]
    },
    {
      "cell_type": "markdown",
      "source": [
        "### Operation Templates\n",
        "This script will take a snapshot of the current operation templates in the PostgreSQL database and save them to Google Drive.\n",
        "\n",
        "For each operation template, it will calculate the average duration of operations created from this template, and add it to the file."
      ],
      "metadata": {
        "id": "_mdLO8bnlcNA"
      }
    },
    {
      "cell_type": "code",
      "execution_count": null,
      "metadata": {
        "colab": {
          "base_uri": "https://localhost:8080/",
          "height": 175
        },
        "id": "RskegmncjhiD",
        "outputId": "f5b46022-444f-48e6-b057-bc8ad9881e38"
      },
      "outputs": [
        {
          "output_type": "display_data",
          "data": {
            "text/plain": [
              "                         created_on                       updated_on   \n",
              "id                                                                     \n",
              "1  2023-04-19 17:51:36.743776+00:00 2023-04-19 17:51:36.743776+00:00  \\\n",
              "2  2023-04-19 17:51:38.814393+00:00 2023-04-19 17:51:38.814393+00:00   \n",
              "3  2023-04-19 17:51:40.919588+00:00 2023-04-19 17:51:40.919588+00:00   \n",
              "\n",
              "                           title   \n",
              "id                                 \n",
              "1                   Chang-Fisher  \\\n",
              "2   Mcgrath, Patrick and Barrera   \n",
              "3        Woods, Grimes and Green   \n",
              "\n",
              "                                          description  avg_duration_minutes  \n",
              "id                                                                           \n",
              "1   Magazine truth stop whose group through despit...  120.0000000000000000  \n",
              "2   Role together range line. Government first pol...  300.0000000000000000  \n",
              "3   Behavior style report. Ability management test...                     0  "
            ],
            "text/html": [
              "<div>\n",
              "<style scoped>\n",
              "    .dataframe tbody tr th:only-of-type {\n",
              "        vertical-align: middle;\n",
              "    }\n",
              "\n",
              "    .dataframe tbody tr th {\n",
              "        vertical-align: top;\n",
              "    }\n",
              "\n",
              "    .dataframe thead th {\n",
              "        text-align: right;\n",
              "    }\n",
              "</style>\n",
              "<table border=\"1\" class=\"dataframe\">\n",
              "  <thead>\n",
              "    <tr style=\"text-align: right;\">\n",
              "      <th></th>\n",
              "      <th>created_on</th>\n",
              "      <th>updated_on</th>\n",
              "      <th>title</th>\n",
              "      <th>description</th>\n",
              "      <th>avg_duration_minutes</th>\n",
              "    </tr>\n",
              "    <tr>\n",
              "      <th>id</th>\n",
              "      <th></th>\n",
              "      <th></th>\n",
              "      <th></th>\n",
              "      <th></th>\n",
              "      <th></th>\n",
              "    </tr>\n",
              "  </thead>\n",
              "  <tbody>\n",
              "    <tr>\n",
              "      <th>1</th>\n",
              "      <td>2023-04-19 17:51:36.743776+00:00</td>\n",
              "      <td>2023-04-19 17:51:36.743776+00:00</td>\n",
              "      <td>Chang-Fisher</td>\n",
              "      <td>Magazine truth stop whose group through despit...</td>\n",
              "      <td>120.0000000000000000</td>\n",
              "    </tr>\n",
              "    <tr>\n",
              "      <th>2</th>\n",
              "      <td>2023-04-19 17:51:38.814393+00:00</td>\n",
              "      <td>2023-04-19 17:51:38.814393+00:00</td>\n",
              "      <td>Mcgrath, Patrick and Barrera</td>\n",
              "      <td>Role together range line. Government first pol...</td>\n",
              "      <td>300.0000000000000000</td>\n",
              "    </tr>\n",
              "    <tr>\n",
              "      <th>3</th>\n",
              "      <td>2023-04-19 17:51:40.919588+00:00</td>\n",
              "      <td>2023-04-19 17:51:40.919588+00:00</td>\n",
              "      <td>Woods, Grimes and Green</td>\n",
              "      <td>Behavior style report. Ability management test...</td>\n",
              "      <td>0</td>\n",
              "    </tr>\n",
              "  </tbody>\n",
              "</table>\n",
              "</div>"
            ]
          },
          "metadata": {}
        }
      ],
      "source": [
        "import pandas as pd\n",
        "from sqlalchemy import MetaData, create_engine, extract, select, text\n",
        "from sqlalchemy.sql import func\n",
        "\n",
        "engine = create_engine(\"postgresql://install-app-viewer:ZhmAK8>&TYu+A*d9@35.203.77.149:5432/install-app-link-testing\")\n",
        "connection = engine.connect()\n",
        "metadata = MetaData()\n",
        "metadata.reflect(bind=connection)\n",
        "template_operation = metadata.tables.get(\"template_operation\")\n",
        "templates = connection.execute(\n",
        "    select(template_operation)\n",
        "      .order_by(template_operation.c.created_on.asc())\n",
        "    ).all()\n",
        "\n",
        "df = pd.DataFrame(templates).set_index('id')\n",
        "\n",
        "averages = []\n",
        "operation = metadata.tables.get(\"operation\")\n",
        "for template in templates:\n",
        "  # Find the total time by taking the difference between epochs (epoch = total # of seconds since 1970)\n",
        "  avg_duration = connection.execute(\n",
        "      select(\n",
        "                func.avg((extract('epoch', operation.c.current_end) - extract('epoch', operation.c.current_start)) / 60)\n",
        "          )\n",
        "        .where(operation.c.template_fk == template.id)\n",
        "        .where(operation.c.current_start.is_not(None), operation.c.current_end.is_not(None))\n",
        "  ).scalar_one() or 0\n",
        "  averages.append(avg_duration)\n",
        "\n",
        "df['avg_duration_minutes'] = averages\n",
        "display(df)"
      ]
    },
    {
      "cell_type": "code",
      "source": [
        "# save as .csv file\n",
        "import os\n",
        "import datetime\n",
        "\n",
        "SNAPSHOT_DIR = 'snapshots'\n",
        "file_name = f'operation_template_{datetime.datetime.now().strftime(\"%Y-%m-%d_%H%M\")}.csv'\n",
        "\n",
        "# TODO: currently this saves to your local hard drive, but it should save to Google drive\n",
        "file_dir = os.path.join(os.getcwd(), SNAPSHOT_DIR) # f\"/content/gdrive/{SNAPSHOT_DIR}\"\n",
        "if not os.path.exists(file_dir):\n",
        "  os.makedirs(file_dir)\n",
        "\n",
        "file_path = os.path.join(file_dir, file_name)\n",
        "df.to_csv(file_path, index=False)\n",
        "print(f\"Saved to {file_path}.\")"
      ],
      "metadata": {
        "id": "0dei8DYZyZmS",
        "colab": {
          "base_uri": "https://localhost:8080/"
        },
        "outputId": "bf0124b9-e047-4ca2-9c7f-0aca626880c1"
      },
      "execution_count": null,
      "outputs": [
        {
          "output_type": "stream",
          "name": "stdout",
          "text": [
            "Saved to C:\\Users\\okos0\\Projects\\install-app-data\\snapshots\\operation_template_2023-04-27_1136.csv.\n"
          ]
        }
      ]
    }
  ]
}